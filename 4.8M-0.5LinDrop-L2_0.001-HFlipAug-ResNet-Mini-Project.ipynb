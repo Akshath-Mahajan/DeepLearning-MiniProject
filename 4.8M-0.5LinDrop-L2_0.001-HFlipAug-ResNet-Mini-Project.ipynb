{
 "cells": [
  {
   "cell_type": "code",
   "execution_count": 1,
   "id": "138bf80e-50e7-4a4b-be9a-282d3ede7256",
   "metadata": {},
   "outputs": [],
   "source": [
    "# %%capture\n",
    "# !pip install torch-summary\n",
    "# !pip install torch\n",
    "# !pip install torchvision"
   ]
  },
  {
   "cell_type": "markdown",
   "id": "ebd68a9f-e841-4aad-8ebf-8a9ac2a8aa84",
   "metadata": {},
   "source": [
    "# Loading Data"
   ]
  },
  {
   "cell_type": "code",
   "execution_count": 2,
   "id": "3a40ae7b-138c-4dd6-a311-5ba8893d27dc",
   "metadata": {},
   "outputs": [],
   "source": [
    "import torch\n",
    "import torchvision\n",
    "import torchsummary\n",
    "from torchvision import datasets, transforms\n",
    "import random"
   ]
  },
  {
   "cell_type": "markdown",
   "id": "661897ea-e8a8-45f2-88f4-578d3b8264ad",
   "metadata": {},
   "source": [
    "### Preprocessing"
   ]
  },
  {
   "cell_type": "code",
   "execution_count": 3,
   "id": "89941b60-69d2-4ad3-b4fe-4add6f332b4b",
   "metadata": {},
   "outputs": [],
   "source": [
    "def normalize(tensor):\n",
    "    tensor -= tensor.mean().item()\n",
    "    return tensor  "
   ]
  },
  {
   "cell_type": "markdown",
   "id": "7762d998-e8cb-4ff9-8ed7-abaded228aea",
   "metadata": {},
   "source": [
    "### Data Loading"
   ]
  },
  {
   "cell_type": "code",
   "execution_count": 4,
   "id": "3c5360be-ca2c-4258-bf0b-f62562c85ae5",
   "metadata": {},
   "outputs": [],
   "source": [
    "PATH = \"./dataset\""
   ]
  },
  {
   "cell_type": "code",
   "execution_count": 5,
   "id": "25f3780c-5ef9-4f89-aad9-83c4a55f4e19",
   "metadata": {},
   "outputs": [
    {
     "name": "stdout",
     "output_type": "stream",
     "text": [
      "Files already downloaded and verified\n",
      "Files already downloaded and verified\n"
     ]
    }
   ],
   "source": [
    "train_data = torchvision.datasets.CIFAR10(PATH,\n",
    "    train=True,\n",
    "    download=True,\n",
    "    transform=transforms.Compose([\n",
    "        transforms.RandomRotation(degrees=10),\n",
    "        transforms.ColorJitter(brightness=0.2, contrast=0.2, saturation=0.2, hue=0.1),\n",
    "        transforms.RandomCrop(size=(32, 32), padding=4),\n",
    "        transforms.RandomHorizontalFlip(),\n",
    "        # transforms.RandomVerticalFlip(),\n",
    "        transforms.RandomAffine(degrees=0, translate=(0.1, 0.1), scale=(0.9, 1.1), shear=0.1),\n",
    "\n",
    "        transforms.ToTensor(),\n",
    "        transforms.Lambda(normalize)\n",
    "    ])\n",
    ")\n",
    "\n",
    "test_data = torchvision.datasets.CIFAR10(PATH,\n",
    "    train=False,\n",
    "    download=True,\n",
    "    transform=transforms.Compose([\n",
    "        transforms.ToTensor(),\n",
    "        transforms.Lambda(normalize)\n",
    "    ])\n",
    ")"
   ]
  },
  {
   "cell_type": "code",
   "execution_count": 6,
   "id": "336e2e20-0687-4fef-8d72-64fea1a87e80",
   "metadata": {},
   "outputs": [],
   "source": [
    "train_dl = torch.utils.data.DataLoader(train_data,batch_size=64,shuffle=True)\n",
    "test_dl = torch.utils.data.DataLoader(test_data,batch_size=64,shuffle=False)"
   ]
  },
  {
   "cell_type": "markdown",
   "id": "839dcafe-2be2-4ebf-9ae1-7e408bb4e9dc",
   "metadata": {},
   "source": [
    "# Network Block Implementation"
   ]
  },
  {
   "cell_type": "code",
   "execution_count": 7,
   "id": "b34a683f-fd0a-400a-83df-21e15fcda3eb",
   "metadata": {},
   "outputs": [],
   "source": [
    "import torch.nn as nn\n",
    "import torch.nn.functional as F"
   ]
  },
  {
   "cell_type": "code",
   "execution_count": 8,
   "id": "1ee0d859-069e-4e6e-96b9-01257e2a7e6f",
   "metadata": {},
   "outputs": [],
   "source": [
    "class ResNetInitialBlock(nn.Module):\n",
    "    def __init__(self, in_channels, out_channels):\n",
    "        super(ResNetInitialBlock, self).__init__()\n",
    "        \n",
    "        self.conv = nn.Conv2d(in_channels, out_channels, kernel_size=3, stride=1, padding=1)\n",
    "    def forward(self, xb):\n",
    "        out = self.conv(xb)\n",
    "        return out"
   ]
  },
  {
   "cell_type": "code",
   "execution_count": 9,
   "id": "492331be-bc72-45be-9ead-c8f7c74f22f7",
   "metadata": {},
   "outputs": [],
   "source": [
    "class ResNetBlock(nn.Module):\n",
    "    def __init__(self, in_channels, out_channels, kernel_size, stride, dropout=0.5):\n",
    "        super(ResNetBlock, self).__init__()\n",
    "\n",
    "        pad = (kernel_size - 1) // 2 \n",
    "        \n",
    "        self.conv1 = nn.Conv2d(in_channels, in_channels, kernel_size=kernel_size, stride=stride, padding=pad)\n",
    "        self.bn1 = nn.BatchNorm2d(in_channels)\n",
    "        self.conv2 = nn.Conv2d(in_channels, out_channels, kernel_size=kernel_size, stride=1, padding=pad)\n",
    "        self.bn2 = nn.BatchNorm2d(out_channels)\n",
    "\n",
    "        # DROPOUT\n",
    "        self.dropout = nn.Dropout(dropout) \n",
    "        # Correct position to apply dropout in resnet - https://arxiv.org/pdf/2302.06112.pdf\n",
    "        \n",
    "        # For skip-connection, 1x1 filter with same stride applied shows better results in original ResNet paper\n",
    "        self.downsample = nn.Conv2d(in_channels, out_channels, kernel_size=1, stride=stride, padding=0)\n",
    "\n",
    "    def forward(self, xb):\n",
    "        # Described in mini-project document\n",
    "        # conv -> BN -> relu -> conv -> BN\n",
    "        if self.downsample is not None:\n",
    "            residual = self.downsample(xb)\n",
    "            \n",
    "        out = self.conv1(xb)\n",
    "        out = self.bn1(out)\n",
    "        out = F.relu(out)\n",
    "        out = self.conv2(out)\n",
    "        out = self.bn2(out)\n",
    "        out = self.dropout(out)\n",
    "        \n",
    "        out = out + residual\n",
    "        \n",
    "        out = F.relu(out) # ReLU(S(x) + F(x))\n",
    "        return out\n",
    "        "
   ]
  },
  {
   "cell_type": "markdown",
   "id": "855358de-b5ac-4b11-9cb2-c5693abffaa2",
   "metadata": {},
   "source": [
    "### ResNetLayer Description: \n",
    "This is a series of similar connected Residual Blocks. \n",
    "\n",
    "The `#channels` in each layer are same (`=in_channels`) and change (to `out_channels`) at layer end"
   ]
  },
  {
   "cell_type": "code",
   "execution_count": 10,
   "id": "b82b8028-62f4-4ca4-b3bd-bc22ec498f53",
   "metadata": {},
   "outputs": [],
   "source": [
    "class ResNetLayer(nn.Module):\n",
    "    def __init__(self, n_blocks, in_channels, out_channels, kernel_size, stride, dropout=0.5):\n",
    "        super(ResNetLayer, self).__init__()\n",
    "        # Change: Now only apply stride to 1st block in layer\n",
    "        blocks_initial = [ResNetBlock(in_channels, out_channels, kernel_size, stride, dropout)]\n",
    "        blocks_list = []\n",
    "        \n",
    "        if n_blocks > 1:\n",
    "            blocks_initial = [\n",
    "                ResNetBlock(in_channels, in_channels, kernel_size, stride, dropout)\n",
    "            ]\n",
    "            blocks_list = [\n",
    "                ResNetBlock(in_channels, in_channels, kernel_size, 1, dropout) for _ in range(n_blocks - 2)\n",
    "            ]\n",
    "            blocks_list.append(\n",
    "                ResNetBlock(in_channels, out_channels, kernel_size, 1, dropout)\n",
    "            )\n",
    "        \n",
    "        self.blocks = nn.Sequential(*(blocks_initial + blocks_list))\n",
    "        \n",
    "    def forward(self, xb):\n",
    "        # Described in mini-project document\n",
    "        out = self.blocks(xb)\n",
    "        return out"
   ]
  },
  {
   "cell_type": "markdown",
   "id": "cda4b352-e986-4d57-85c1-3489e0e11277",
   "metadata": {},
   "source": [
    "# Final Model Implementation with params"
   ]
  },
  {
   "cell_type": "code",
   "execution_count": 11,
   "id": "64e5266c-9183-4346-9d0d-e112f686972e",
   "metadata": {},
   "outputs": [],
   "source": [
    "class ResNet(nn.Module):\n",
    "    def __init__(self, initial_params, resnet_params, linear_params, pooling_size, dropout=0.5):\n",
    "        super(ResNet, self).__init__()\n",
    "\n",
    "        in_channels, out_channels = initial_params\n",
    "        initial_layer = [\n",
    "            ResNetInitialBlock(in_channels, out_channels)\n",
    "        ]\n",
    "        middle_layers = [\n",
    "            ResNetLayer(\n",
    "                n_blocks = n_blocks,\n",
    "                in_channels = in_channels,\n",
    "                out_channels = out_channels,\n",
    "                kernel_size = kernel_size,\n",
    "                stride = stride,\n",
    "                dropout = dropout\n",
    "            )\n",
    "            for n_blocks, in_channels, out_channels, kernel_size, stride, dropout in resnet_params\n",
    "        ]\n",
    "        \n",
    "        self.network = nn.Sequential(\n",
    "            * (initial_layer + middle_layers)    \n",
    "        )\n",
    "        self.dropout = nn.Dropout(dropout)\n",
    "        self.pool = nn.AvgPool2d(kernel_size=pooling_size, stride=1)\n",
    "        self.fc = nn.Linear(linear_params, 10)\n",
    "        \n",
    "    def forward(self, xb):\n",
    "        out = self.network(xb)\n",
    "        # print(\"Here\", xb.shape)\n",
    "        out = self.pool(out)\n",
    "        out = self.dropout(out)\n",
    "        out = out.view(xb.shape[0], -1)\n",
    "        out = self.fc(out)\n",
    "        return out"
   ]
  },
  {
   "cell_type": "markdown",
   "id": "4f42299b-2357-4f01-bbb8-6204b28e065f",
   "metadata": {},
   "source": [
    "# Train and Eval Code"
   ]
  },
  {
   "cell_type": "code",
   "execution_count": 12,
   "id": "b8918394-9117-4d96-9c03-5e797f06c3cd",
   "metadata": {},
   "outputs": [
    {
     "name": "stdout",
     "output_type": "stream",
     "text": [
      "cuda\n"
     ]
    }
   ],
   "source": [
    "device =  torch.device(\"cuda\" if torch.cuda.is_available() else \"cpu\")\n",
    "print(device)"
   ]
  },
  {
   "cell_type": "code",
   "execution_count": 13,
   "id": "fa9ee8fe-1b81-4739-a94c-90023876d14a",
   "metadata": {
    "scrolled": true
   },
   "outputs": [],
   "source": [
    "def n_correct(outputs, labels):\n",
    "  _, preds = torch.max(outputs, dim=1)\n",
    "  # We can use softmax instead here, but the result is the same\n",
    "  # Softmax maps largest probability to the largest prediction\n",
    "  return torch.sum(preds==labels).item()\n",
    "\n",
    "def evaluate(test_dl, model):\n",
    "  acc = 0\n",
    "  n_samples = len(test_dl.dataset)\n",
    "  with torch.no_grad():\n",
    "    for imgs, labels in test_dl:\n",
    "      imgs, labels = imgs.to(device), labels.to(device)\n",
    "      preds = model(imgs)\n",
    "      acc += n_correct(preds, labels)\n",
    "    acc /= n_samples\n",
    "    return acc"
   ]
  },
  {
   "cell_type": "code",
   "execution_count": 14,
   "id": "81a5e5a2-a144-43cd-bbd1-9abd3f46aaf5",
   "metadata": {},
   "outputs": [],
   "source": [
    "def train(train_dl, test_dl, model, opt, scheduler, loss_fn, epochs, max_test = 0):\n",
    "  loss_plt = torch.Tensor([0 for _ in range(epochs)])\n",
    "  for _ in range(epochs):\n",
    "    for images, labels in train_dl:\n",
    "      images, labels = images.to(device), labels.to(device)\n",
    "      outputs = model(images)\n",
    "      # print(outputs.grad_fn)\n",
    "      loss = loss_fn(outputs, labels)\n",
    "      loss_plt[_] += loss.item()\n",
    "      # print(loss.grad_fn)\n",
    "      if opt is not None:\n",
    "        loss.backward()\n",
    "        opt.step()\n",
    "        opt.zero_grad()\n",
    "    scheduler.step()\n",
    "    test_acc = evaluate(test_dl, model)\n",
    "    if test_acc > max_test:\n",
    "        max_test = test_acc\n",
    "        torch.save(model.state_dict(), 'model-test.pth')\n",
    "        \n",
    "    print(\"Epoch [{}/{}]: \\t Running Loss = {} \\t Test Accuracy = {:.4}%\".format(_+1, epochs, loss_plt[_]/len(train_dl), str(test_acc*100)))\n",
    "  return loss_plt, loss_plt/len(train_dl)"
   ]
  },
  {
   "cell_type": "markdown",
   "id": "a1dfe857-de1c-420a-bd33-ee4bcd149533",
   "metadata": {},
   "source": [
    "# Experimentation"
   ]
  },
  {
   "cell_type": "code",
   "execution_count": 15,
   "id": "4dbb41fb-319c-4d92-878c-b0b61700c55d",
   "metadata": {},
   "outputs": [],
   "source": [
    "# layers = [(n_blocks, in_channels, out_channels, kernel_size, stride, dropout]\n",
    "initial_params = (3, 64)\n",
    "resnet_params = [\n",
    "    (2, 64, 128, 3, 1, 0),\n",
    "    (2, 128, 256, 3, 2, 0),\n",
    "    (3, 256, 256, 3, 2, 0),\n",
    "    # (2, 512, 512, 3, 2, 0.5),\n",
    "]\n",
    "\n",
    "pooling_size = 3\n",
    "linear_params = 9216\n",
    "pooling_dropout = 0.5"
   ]
  },
  {
   "cell_type": "code",
   "execution_count": 16,
   "id": "73b8a258-c486-49c9-a07a-219b55413e61",
   "metadata": {},
   "outputs": [
    {
     "name": "stdout",
     "output_type": "stream",
     "text": [
      "==========================================================================================\n",
      "Layer (type:depth-idx)                   Output Shape              Param #\n",
      "==========================================================================================\n",
      "├─Sequential: 1-1                        [-1, 256, 8, 8]           --\n",
      "|    └─ResNetInitialBlock: 2-1           [-1, 64, 32, 32]          --\n",
      "|    |    └─Conv2d: 3-1                  [-1, 64, 32, 32]          1,792\n",
      "|    └─ResNetLayer: 2-2                  [-1, 128, 32, 32]         --\n",
      "|    |    └─Sequential: 3-2              [-1, 128, 32, 32]         197,760\n",
      "|    └─ResNetLayer: 2-3                  [-1, 256, 16, 16]         --\n",
      "|    |    └─Sequential: 3-3              [-1, 256, 16, 16]         788,736\n",
      "|    └─ResNetLayer: 2-4                  [-1, 256, 8, 8]           --\n",
      "|    |    └─Sequential: 3-4              [-1, 256, 8, 8]           3,740,928\n",
      "├─AvgPool2d: 1-2                         [-1, 256, 6, 6]           --\n",
      "├─Dropout: 1-3                           [-1, 256, 6, 6]           --\n",
      "├─Linear: 1-4                            [-1, 10]                  92,170\n",
      "==========================================================================================\n",
      "Total params: 4,821,386\n",
      "Trainable params: 4,821,386\n",
      "Non-trainable params: 0\n",
      "Total mult-adds (M): 20.75\n",
      "==========================================================================================\n",
      "Input size (MB): 0.01\n",
      "Forward/backward pass size (MB): 0.50\n",
      "Params size (MB): 18.39\n",
      "Estimated Total Size (MB): 18.90\n",
      "==========================================================================================\n"
     ]
    }
   ],
   "source": [
    "model = ResNet(initial_params, resnet_params, linear_params, pooling_size, pooling_dropout)\n",
    "model.to(device)\n",
    "img_dims = (3, 32, 32)\n",
    "summary = torchsummary.summary(model, img_dims)"
   ]
  },
  {
   "cell_type": "code",
   "execution_count": 17,
   "id": "d1a893f8-31f6-4cd4-94a5-b0b62c34dbba",
   "metadata": {},
   "outputs": [],
   "source": [
    "loss_fn = torch.nn.CrossEntropyLoss()\n",
    "optim = torch.optim.SGD(model.parameters(), lr=0.5, weight_decay=0.001)\n",
    "scheduler = torch.optim.lr_scheduler.StepLR(optim, step_size=70, gamma=0.2) \n",
    "epochs = 150"
   ]
  },
  {
   "cell_type": "code",
   "execution_count": 18,
   "id": "513075dc-5bdd-4b90-a642-28e0871efab4",
   "metadata": {},
   "outputs": [
    {
     "name": "stdout",
     "output_type": "stream",
     "text": [
      "Epoch [1/150]: \t Running Loss = 2.258410930633545 \t Test Accuracy = 25.8%\n",
      "Epoch [2/150]: \t Running Loss = 1.888457179069519 \t Test Accuracy = 29.7%\n",
      "Epoch [3/150]: \t Running Loss = 1.7356789112091064 \t Test Accuracy = 37.2%\n",
      "Epoch [4/150]: \t Running Loss = 1.5728402137756348 \t Test Accuracy = 41.6%\n",
      "Epoch [5/150]: \t Running Loss = 1.385703206062317 \t Test Accuracy = 46.6%\n",
      "Epoch [6/150]: \t Running Loss = 1.2398878335952759 \t Test Accuracy = 51.6%\n",
      "Epoch [7/150]: \t Running Loss = 1.1334891319274902 \t Test Accuracy = 56.6%\n",
      "Epoch [8/150]: \t Running Loss = 1.0564730167388916 \t Test Accuracy = 54.7%\n",
      "Epoch [9/150]: \t Running Loss = 1.01204514503479 \t Test Accuracy = 51.1%\n",
      "Epoch [10/150]: \t Running Loss = 0.9718426465988159 \t Test Accuracy = 53.8%\n",
      "Epoch [11/150]: \t Running Loss = 0.9406372308731079 \t Test Accuracy = 57.3%\n",
      "Epoch [12/150]: \t Running Loss = 0.9166358113288879 \t Test Accuracy = 63.6%\n",
      "Epoch [13/150]: \t Running Loss = 0.898100733757019 \t Test Accuracy = 64.6%\n",
      "Epoch [14/150]: \t Running Loss = 0.8892422914505005 \t Test Accuracy = 63.6%\n",
      "Epoch [15/150]: \t Running Loss = 0.8773508071899414 \t Test Accuracy = 69.2%\n",
      "Epoch [16/150]: \t Running Loss = 0.8640196919441223 \t Test Accuracy = 72.9%\n",
      "Epoch [17/150]: \t Running Loss = 0.8562538027763367 \t Test Accuracy = 62.0%\n",
      "Epoch [18/150]: \t Running Loss = 0.8466503620147705 \t Test Accuracy = 64.3%\n",
      "Epoch [19/150]: \t Running Loss = 0.833506166934967 \t Test Accuracy = 60.7%\n",
      "Epoch [20/150]: \t Running Loss = 0.8337371945381165 \t Test Accuracy = 66.3%\n",
      "Epoch [21/150]: \t Running Loss = 0.8279700875282288 \t Test Accuracy = 61.6%\n",
      "Epoch [22/150]: \t Running Loss = 0.8220381736755371 \t Test Accuracy = 67.2%\n",
      "Epoch [23/150]: \t Running Loss = 0.811569094657898 \t Test Accuracy = 73.2%\n",
      "Epoch [24/150]: \t Running Loss = 0.8111423850059509 \t Test Accuracy = 63.3%\n",
      "Epoch [25/150]: \t Running Loss = 0.8130521774291992 \t Test Accuracy = 48.3%\n",
      "Epoch [26/150]: \t Running Loss = 0.7970011830329895 \t Test Accuracy = 68.1%\n",
      "Epoch [27/150]: \t Running Loss = 0.8000234365463257 \t Test Accuracy = 67.4%\n",
      "Epoch [28/150]: \t Running Loss = 0.7995312809944153 \t Test Accuracy = 66.1%\n",
      "Epoch [29/150]: \t Running Loss = 0.7951077818870544 \t Test Accuracy = 69.3%\n",
      "Epoch [30/150]: \t Running Loss = 0.7962089776992798 \t Test Accuracy = 64.9%\n",
      "Epoch [31/150]: \t Running Loss = 0.7940587401390076 \t Test Accuracy = 70.3%\n",
      "Epoch [32/150]: \t Running Loss = 0.7914692759513855 \t Test Accuracy = 59.9%\n",
      "Epoch [33/150]: \t Running Loss = 0.778010368347168 \t Test Accuracy = 70.1%\n",
      "Epoch [34/150]: \t Running Loss = 0.784729540348053 \t Test Accuracy = 45.9%\n",
      "Epoch [35/150]: \t Running Loss = 0.7870399355888367 \t Test Accuracy = 61.7%\n",
      "Epoch [36/150]: \t Running Loss = 0.7766241431236267 \t Test Accuracy = 76.0%\n",
      "Epoch [37/150]: \t Running Loss = 0.7707780003547668 \t Test Accuracy = 66.1%\n",
      "Epoch [38/150]: \t Running Loss = 0.7841501235961914 \t Test Accuracy = 75.3%\n",
      "Epoch [39/150]: \t Running Loss = 0.7760770916938782 \t Test Accuracy = 69.5%\n",
      "Epoch [40/150]: \t Running Loss = 0.7689772248268127 \t Test Accuracy = 45.8%\n",
      "Epoch [41/150]: \t Running Loss = 0.7776111364364624 \t Test Accuracy = 64.5%\n",
      "Epoch [42/150]: \t Running Loss = 0.768868625164032 \t Test Accuracy = 69.0%\n",
      "Epoch [43/150]: \t Running Loss = 0.7714454531669617 \t Test Accuracy = 71.8%\n",
      "Epoch [44/150]: \t Running Loss = 0.7680227160453796 \t Test Accuracy = 78.9%\n",
      "Epoch [45/150]: \t Running Loss = 0.7680809497833252 \t Test Accuracy = 65.8%\n",
      "Epoch [46/150]: \t Running Loss = 0.7661516070365906 \t Test Accuracy = 61.9%\n",
      "Epoch [47/150]: \t Running Loss = 0.7649931907653809 \t Test Accuracy = 71.7%\n",
      "Epoch [48/150]: \t Running Loss = 0.7606595158576965 \t Test Accuracy = 61.7%\n",
      "Epoch [49/150]: \t Running Loss = 0.7606678009033203 \t Test Accuracy = 71.3%\n",
      "Epoch [50/150]: \t Running Loss = 0.7623324394226074 \t Test Accuracy = 72.1%\n",
      "Epoch [51/150]: \t Running Loss = 0.7595084309577942 \t Test Accuracy = 62.2%\n",
      "Epoch [52/150]: \t Running Loss = 0.7612009048461914 \t Test Accuracy = 56.5%\n",
      "Epoch [53/150]: \t Running Loss = 0.7569131851196289 \t Test Accuracy = 72.1%\n",
      "Epoch [54/150]: \t Running Loss = 0.7587125897407532 \t Test Accuracy = 66.9%\n",
      "Epoch [55/150]: \t Running Loss = 0.7612819671630859 \t Test Accuracy = 67.4%\n",
      "Epoch [56/150]: \t Running Loss = 0.7566876411437988 \t Test Accuracy = 62.5%\n",
      "Epoch [57/150]: \t Running Loss = 0.7554175853729248 \t Test Accuracy = 70.5%\n",
      "Epoch [58/150]: \t Running Loss = 0.7555812001228333 \t Test Accuracy = 72.5%\n",
      "Epoch [59/150]: \t Running Loss = 0.754914402961731 \t Test Accuracy = 59.0%\n",
      "Epoch [60/150]: \t Running Loss = 0.7621356248855591 \t Test Accuracy = 68.4%\n",
      "Epoch [61/150]: \t Running Loss = 0.7530303001403809 \t Test Accuracy = 57.4%\n",
      "Epoch [62/150]: \t Running Loss = 0.7512469291687012 \t Test Accuracy = 55.2%\n",
      "Epoch [63/150]: \t Running Loss = 0.7531206011772156 \t Test Accuracy = 71.7%\n",
      "Epoch [64/150]: \t Running Loss = 0.7512043118476868 \t Test Accuracy = 60.3%\n",
      "Epoch [65/150]: \t Running Loss = 0.7526882290840149 \t Test Accuracy = 66.8%\n",
      "Epoch [66/150]: \t Running Loss = 0.7411166429519653 \t Test Accuracy = 74.5%\n",
      "Epoch [67/150]: \t Running Loss = 0.7478000521659851 \t Test Accuracy = 76.6%\n",
      "Epoch [68/150]: \t Running Loss = 0.7510831952095032 \t Test Accuracy = 53.1%\n",
      "Epoch [69/150]: \t Running Loss = 0.7451555728912354 \t Test Accuracy = 69.9%\n",
      "Epoch [70/150]: \t Running Loss = 0.7392309904098511 \t Test Accuracy = 62.5%\n",
      "Epoch [71/150]: \t Running Loss = 0.46627140045166016 \t Test Accuracy = 86.3%\n",
      "Epoch [72/150]: \t Running Loss = 0.4020578861236572 \t Test Accuracy = 86.6%\n",
      "Epoch [73/150]: \t Running Loss = 0.3846721947193146 \t Test Accuracy = 85.9%\n",
      "Epoch [74/150]: \t Running Loss = 0.3742300868034363 \t Test Accuracy = 86.8%\n",
      "Epoch [75/150]: \t Running Loss = 0.3753878176212311 \t Test Accuracy = 85.4%\n",
      "Epoch [76/150]: \t Running Loss = 0.37245258688926697 \t Test Accuracy = 84.5%\n",
      "Epoch [77/150]: \t Running Loss = 0.3751533329486847 \t Test Accuracy = 87.3%\n",
      "Epoch [78/150]: \t Running Loss = 0.3726859390735626 \t Test Accuracy = 86.3%\n",
      "Epoch [79/150]: \t Running Loss = 0.37822040915489197 \t Test Accuracy = 83.5%\n",
      "Epoch [80/150]: \t Running Loss = 0.37888216972351074 \t Test Accuracy = 85.2%\n",
      "Epoch [81/150]: \t Running Loss = 0.3701234757900238 \t Test Accuracy = 86.0%\n",
      "Epoch [82/150]: \t Running Loss = 0.3691117763519287 \t Test Accuracy = 85.6%\n",
      "Epoch [83/150]: \t Running Loss = 0.36710086464881897 \t Test Accuracy = 84.0%\n",
      "Epoch [84/150]: \t Running Loss = 0.37078192830085754 \t Test Accuracy = 82.3%\n",
      "Epoch [85/150]: \t Running Loss = 0.36617928743362427 \t Test Accuracy = 86.6%\n",
      "Epoch [86/150]: \t Running Loss = 0.36023885011672974 \t Test Accuracy = 82.4%\n",
      "Epoch [87/150]: \t Running Loss = 0.361136794090271 \t Test Accuracy = 86.1%\n",
      "Epoch [88/150]: \t Running Loss = 0.3589461147785187 \t Test Accuracy = 84.0%\n",
      "Epoch [89/150]: \t Running Loss = 0.3508782982826233 \t Test Accuracy = 87.8%\n",
      "Epoch [90/150]: \t Running Loss = 0.35207611322402954 \t Test Accuracy = 87.8%\n",
      "Epoch [91/150]: \t Running Loss = 0.346427321434021 \t Test Accuracy = 85.0%\n",
      "Epoch [92/150]: \t Running Loss = 0.3482349216938019 \t Test Accuracy = 88.2%\n",
      "Epoch [93/150]: \t Running Loss = 0.34727779030799866 \t Test Accuracy = 87.4%\n",
      "Epoch [94/150]: \t Running Loss = 0.34424513578414917 \t Test Accuracy = 83.6%\n",
      "Epoch [95/150]: \t Running Loss = 0.3428531289100647 \t Test Accuracy = 86.7%\n",
      "Epoch [96/150]: \t Running Loss = 0.34011274576187134 \t Test Accuracy = 87.2%\n",
      "Epoch [97/150]: \t Running Loss = 0.3403162658214569 \t Test Accuracy = 84.5%\n",
      "Epoch [98/150]: \t Running Loss = 0.3403104543685913 \t Test Accuracy = 83.8%\n",
      "Epoch [99/150]: \t Running Loss = 0.3405626714229584 \t Test Accuracy = 81.5%\n",
      "Epoch [100/150]: \t Running Loss = 0.3394523561000824 \t Test Accuracy = 85.9%\n",
      "Epoch [101/150]: \t Running Loss = 0.33254653215408325 \t Test Accuracy = 86.0%\n",
      "Epoch [102/150]: \t Running Loss = 0.3276258707046509 \t Test Accuracy = 77.8%\n",
      "Epoch [103/150]: \t Running Loss = 0.3369213342666626 \t Test Accuracy = 83.9%\n",
      "Epoch [104/150]: \t Running Loss = 0.3314168453216553 \t Test Accuracy = 86.0%\n",
      "Epoch [105/150]: \t Running Loss = 0.3287774324417114 \t Test Accuracy = 83.6%\n",
      "Epoch [106/150]: \t Running Loss = 0.32748833298683167 \t Test Accuracy = 75.7%\n",
      "Epoch [107/150]: \t Running Loss = 0.3240933120250702 \t Test Accuracy = 85.8%\n",
      "Epoch [108/150]: \t Running Loss = 0.32413583993911743 \t Test Accuracy = 86.4%\n",
      "Epoch [109/150]: \t Running Loss = 0.3231997489929199 \t Test Accuracy = 86.4%\n",
      "Epoch [110/150]: \t Running Loss = 0.3288576602935791 \t Test Accuracy = 85.2%\n",
      "Epoch [111/150]: \t Running Loss = 0.3192618191242218 \t Test Accuracy = 85.7%\n",
      "Epoch [112/150]: \t Running Loss = 0.3260725438594818 \t Test Accuracy = 87.7%\n",
      "Epoch [113/150]: \t Running Loss = 0.3199428617954254 \t Test Accuracy = 86.4%\n",
      "Epoch [114/150]: \t Running Loss = 0.32365986704826355 \t Test Accuracy = 88.1%\n",
      "Epoch [115/150]: \t Running Loss = 0.3206692337989807 \t Test Accuracy = 85.4%\n",
      "Epoch [116/150]: \t Running Loss = 0.3179329037666321 \t Test Accuracy = 80.0%\n",
      "Epoch [117/150]: \t Running Loss = 0.3232451379299164 \t Test Accuracy = 85.3%\n",
      "Epoch [118/150]: \t Running Loss = 0.3209611773490906 \t Test Accuracy = 88.1%\n",
      "Epoch [119/150]: \t Running Loss = 0.316097229719162 \t Test Accuracy = 88.0%\n",
      "Epoch [120/150]: \t Running Loss = 0.3198900520801544 \t Test Accuracy = 82.6%\n",
      "Epoch [121/150]: \t Running Loss = 0.3128812611103058 \t Test Accuracy = 88.5%\n",
      "Epoch [122/150]: \t Running Loss = 0.3119624853134155 \t Test Accuracy = 87.9%\n",
      "Epoch [123/150]: \t Running Loss = 0.3145447373390198 \t Test Accuracy = 82.6%\n",
      "Epoch [124/150]: \t Running Loss = 0.3141855001449585 \t Test Accuracy = 86.8%\n",
      "Epoch [125/150]: \t Running Loss = 0.3129332363605499 \t Test Accuracy = 88.5%\n",
      "Epoch [126/150]: \t Running Loss = 0.31152164936065674 \t Test Accuracy = 83.0%\n",
      "Epoch [127/150]: \t Running Loss = 0.31072184443473816 \t Test Accuracy = 86.9%\n",
      "Epoch [128/150]: \t Running Loss = 0.31049275398254395 \t Test Accuracy = 88.6%\n",
      "Epoch [129/150]: \t Running Loss = 0.308467298746109 \t Test Accuracy = 86.9%\n",
      "Epoch [130/150]: \t Running Loss = 0.3079289197921753 \t Test Accuracy = 87.4%\n",
      "Epoch [131/150]: \t Running Loss = 0.3042742908000946 \t Test Accuracy = 87.5%\n",
      "Epoch [132/150]: \t Running Loss = 0.3074624240398407 \t Test Accuracy = 85.3%\n",
      "Epoch [133/150]: \t Running Loss = 0.3049529790878296 \t Test Accuracy = 86.6%\n",
      "Epoch [134/150]: \t Running Loss = 0.3092486560344696 \t Test Accuracy = 86.7%\n",
      "Epoch [135/150]: \t Running Loss = 0.30774980783462524 \t Test Accuracy = 86.3%\n",
      "Epoch [136/150]: \t Running Loss = 0.3060130476951599 \t Test Accuracy = 86.5%\n",
      "Epoch [137/150]: \t Running Loss = 0.30337029695510864 \t Test Accuracy = 87.8%\n",
      "Epoch [138/150]: \t Running Loss = 0.3036600947380066 \t Test Accuracy = 85.6%\n",
      "Epoch [139/150]: \t Running Loss = 0.30452582240104675 \t Test Accuracy = 81.4%\n",
      "Epoch [140/150]: \t Running Loss = 0.3054203987121582 \t Test Accuracy = 81.2%\n",
      "Epoch [141/150]: \t Running Loss = 0.17697933316230774 \t Test Accuracy = 92.4%\n",
      "Epoch [142/150]: \t Running Loss = 0.13917768001556396 \t Test Accuracy = 92.6%\n",
      "Epoch [143/150]: \t Running Loss = 0.12383214384317398 \t Test Accuracy = 93.0%\n",
      "Epoch [144/150]: \t Running Loss = 0.11655627191066742 \t Test Accuracy = 92.7%\n",
      "Epoch [145/150]: \t Running Loss = 0.1086048111319542 \t Test Accuracy = 92.5%\n",
      "Epoch [146/150]: \t Running Loss = 0.10687229782342911 \t Test Accuracy = 92.5%\n",
      "Epoch [147/150]: \t Running Loss = 0.1016061007976532 \t Test Accuracy = 92.4%\n",
      "Epoch [148/150]: \t Running Loss = 0.10037606954574585 \t Test Accuracy = 92.7%\n",
      "Epoch [149/150]: \t Running Loss = 0.09867902845144272 \t Test Accuracy = 93.0%\n",
      "Epoch [150/150]: \t Running Loss = 0.09240707010030746 \t Test Accuracy = 93.1%\n"
     ]
    }
   ],
   "source": [
    "losses = train(train_dl, test_dl, model, optim, scheduler, loss_fn, epochs)"
   ]
  },
  {
   "cell_type": "code",
   "execution_count": 19,
   "id": "2b022cc0-b421-4201-9090-b8961af801f6",
   "metadata": {},
   "outputs": [],
   "source": [
    "total_loss, avg_loss = losses"
   ]
  },
  {
   "cell_type": "code",
   "execution_count": 20,
   "id": "94a43b8e-3daa-4d93-a671-a868a011b29c",
   "metadata": {},
   "outputs": [
    {
     "data": {
      "image/png": "[encoded data removed]",
      "text/plain": [
       "<Figure size 640x480 with 1 Axes>"
      ]
     },
     "metadata": {},
     "output_type": "display_data"
    }
   ],
   "source": [
    "import matplotlib.pyplot as plt\n",
    "\n",
    "plt.plot(range(1, epochs+1), avg_loss, 'b', label='Avg loss')\n",
    "plt.title('Average Loss for each epoch')\n",
    "plt.xlabel('Epochs')\n",
    "plt.ylabel('Avg Loss')\n",
    "plt.legend()\n",
    "plt.savefig('150_plot.png')\n",
    "plt.show()"
   ]
  },
  {
   "cell_type": "markdown",
   "id": "227b9f48-936a-46cd-b714-f345e606c621",
   "metadata": {},
   "source": [
    "## Evaluation"
   ]
  },
  {
   "cell_type": "code",
   "execution_count": 21,
   "id": "f318b04b-0af6-4a57-9d4b-98937cbee639",
   "metadata": {},
   "outputs": [
    {
     "name": "stdout",
     "output_type": "stream",
     "text": [
      "The accuracy of the model on train data is: 96.662%\n"
     ]
    }
   ],
   "source": [
    "accuracy = evaluate(train_dl, model)\n",
    "print(\"The accuracy of the model on train data is:\", str(accuracy*100)+\"%\")"
   ]
  },
  {
   "cell_type": "code",
   "execution_count": 22,
   "id": "570b4b52-0e65-4bc5-9180-63b5445e475b",
   "metadata": {},
   "outputs": [
    {
     "name": "stdout",
     "output_type": "stream",
     "text": [
      "The accuracy of the model on test data is: 93.12%\n"
     ]
    }
   ],
   "source": [
    "accuracy = evaluate(test_dl, model)\n",
    "print(\"The accuracy of the model on test data is:\", str(accuracy*100)+\"%\")"
   ]
  },
  {
   "cell_type": "code",
   "execution_count": 23,
   "id": "18aaba32-3242-4ffe-939d-0adb06120acb",
   "metadata": {},
   "outputs": [
    {
     "name": "stdout",
     "output_type": "stream",
     "text": [
      "Epoch [1/150]: \t Running Loss = 0.09294433891773224 \t Test Accuracy = 92.8%\n",
      "Epoch [2/150]: \t Running Loss = 0.09200979769229889 \t Test Accuracy = 92.4%\n",
      "Epoch [3/150]: \t Running Loss = 0.09225556254386902 \t Test Accuracy = 92.3%\n",
      "Epoch [4/150]: \t Running Loss = 0.08956699073314667 \t Test Accuracy = 91.6%\n",
      "Epoch [5/150]: \t Running Loss = 0.08992363512516022 \t Test Accuracy = 92.5%\n",
      "Epoch [6/150]: \t Running Loss = 0.08574653416872025 \t Test Accuracy = 92.3%\n",
      "Epoch [7/150]: \t Running Loss = 0.08885001391172409 \t Test Accuracy = 92.6%\n",
      "Epoch [8/150]: \t Running Loss = 0.09230618923902512 \t Test Accuracy = 92.2%\n",
      "Epoch [9/150]: \t Running Loss = 0.09304381161928177 \t Test Accuracy = 92.7%\n",
      "Epoch [10/150]: \t Running Loss = 0.09053686261177063 \t Test Accuracy = 92.6%\n",
      "Epoch [11/150]: \t Running Loss = 0.0881655141711235 \t Test Accuracy = 92.2%\n",
      "Epoch [12/150]: \t Running Loss = 0.08912850171327591 \t Test Accuracy = 91.2%\n",
      "Epoch [13/150]: \t Running Loss = 0.09491169452667236 \t Test Accuracy = 91.0%\n",
      "Epoch [14/150]: \t Running Loss = 0.09116959571838379 \t Test Accuracy = 90.8%\n",
      "Epoch [15/150]: \t Running Loss = 0.0890846848487854 \t Test Accuracy = 91.8%\n",
      "Epoch [16/150]: \t Running Loss = 0.09109856933355331 \t Test Accuracy = 92.5%\n",
      "Epoch [17/150]: \t Running Loss = 0.09149053692817688 \t Test Accuracy = 91.5%\n",
      "Epoch [18/150]: \t Running Loss = 0.09168697148561478 \t Test Accuracy = 92.4%\n",
      "Epoch [19/150]: \t Running Loss = 0.0920664519071579 \t Test Accuracy = 91.6%\n",
      "Epoch [20/150]: \t Running Loss = 0.094114288687706 \t Test Accuracy = 91.6%\n",
      "Epoch [21/150]: \t Running Loss = 0.09683110564947128 \t Test Accuracy = 89.2%\n",
      "Epoch [22/150]: \t Running Loss = 0.09245244413614273 \t Test Accuracy = 91.8%\n",
      "Epoch [23/150]: \t Running Loss = 0.09745847433805466 \t Test Accuracy = 91.8%\n",
      "Epoch [24/150]: \t Running Loss = 0.09720366448163986 \t Test Accuracy = 92.0%\n",
      "Epoch [25/150]: \t Running Loss = 0.09364702552556992 \t Test Accuracy = 92.0%\n",
      "Epoch [26/150]: \t Running Loss = 0.09753439575433731 \t Test Accuracy = 92.0%\n",
      "Epoch [27/150]: \t Running Loss = 0.0955604687333107 \t Test Accuracy = 92.0%\n",
      "Epoch [28/150]: \t Running Loss = 0.09642922133207321 \t Test Accuracy = 91.6%\n",
      "Epoch [29/150]: \t Running Loss = 0.10000843554735184 \t Test Accuracy = 90.0%\n",
      "Epoch [30/150]: \t Running Loss = 0.0991586372256279 \t Test Accuracy = 92.0%\n",
      "Epoch [31/150]: \t Running Loss = 0.09929165244102478 \t Test Accuracy = 92.6%\n",
      "Epoch [32/150]: \t Running Loss = 0.09743834286928177 \t Test Accuracy = 90.8%\n",
      "Epoch [33/150]: \t Running Loss = 0.09554789215326309 \t Test Accuracy = 90.2%\n",
      "Epoch [34/150]: \t Running Loss = 0.10198365896940231 \t Test Accuracy = 91.7%\n",
      "Epoch [35/150]: \t Running Loss = 0.09790178388357162 \t Test Accuracy = 92.0%\n",
      "Epoch [36/150]: \t Running Loss = 0.09924054890871048 \t Test Accuracy = 89.7%\n",
      "Epoch [37/150]: \t Running Loss = 0.103812575340271 \t Test Accuracy = 89.1%\n",
      "Epoch [38/150]: \t Running Loss = 0.09887591749429703 \t Test Accuracy = 91.9%\n",
      "Epoch [39/150]: \t Running Loss = 0.09649541229009628 \t Test Accuracy = 91.3%\n",
      "Epoch [40/150]: \t Running Loss = 0.10120657831430435 \t Test Accuracy = 92.2%\n",
      "Epoch [41/150]: \t Running Loss = 0.09664268046617508 \t Test Accuracy = 90.4%\n",
      "Epoch [42/150]: \t Running Loss = 0.10186196863651276 \t Test Accuracy = 91.6%\n",
      "Epoch [43/150]: \t Running Loss = 0.09774737060070038 \t Test Accuracy = 91.6%\n",
      "Epoch [44/150]: \t Running Loss = 0.10056988149881363 \t Test Accuracy = 89.3%\n",
      "Epoch [45/150]: \t Running Loss = 0.10733499377965927 \t Test Accuracy = 92.0%\n",
      "Epoch [46/150]: \t Running Loss = 0.10000357031822205 \t Test Accuracy = 92.1%\n",
      "Epoch [47/150]: \t Running Loss = 0.09744075685739517 \t Test Accuracy = 91.6%\n",
      "Epoch [48/150]: \t Running Loss = 0.09466445446014404 \t Test Accuracy = 91.8%\n",
      "Epoch [49/150]: \t Running Loss = 0.10068834573030472 \t Test Accuracy = 91.5%\n",
      "Epoch [50/150]: \t Running Loss = 0.10080971568822861 \t Test Accuracy = 91.0%\n",
      "Epoch [51/150]: \t Running Loss = 0.10169052332639694 \t Test Accuracy = 90.8%\n",
      "Epoch [52/150]: \t Running Loss = 0.09988322108983994 \t Test Accuracy = 91.1%\n",
      "Epoch [53/150]: \t Running Loss = 0.09879526495933533 \t Test Accuracy = 91.6%\n",
      "Epoch [54/150]: \t Running Loss = 0.09949202835559845 \t Test Accuracy = 91.7%\n",
      "Epoch [55/150]: \t Running Loss = 0.09413119405508041 \t Test Accuracy = 91.5%\n",
      "Epoch [56/150]: \t Running Loss = 0.10129693150520325 \t Test Accuracy = 91.4%\n",
      "Epoch [57/150]: \t Running Loss = 0.09909377992153168 \t Test Accuracy = 91.9%\n",
      "Epoch [58/150]: \t Running Loss = 0.09621193259954453 \t Test Accuracy = 91.2%\n",
      "Epoch [59/150]: \t Running Loss = 0.1017971858382225 \t Test Accuracy = 91.1%\n",
      "Epoch [60/150]: \t Running Loss = 0.10043605417013168 \t Test Accuracy = 91.8%\n",
      "Epoch [61/150]: \t Running Loss = 0.055785082280635834 \t Test Accuracy = 93.1%\n",
      "Epoch [62/150]: \t Running Loss = 0.04134780913591385 \t Test Accuracy = 93.5%\n",
      "Epoch [63/150]: \t Running Loss = 0.03443778678774834 \t Test Accuracy = 93.5%\n",
      "Epoch [64/150]: \t Running Loss = 0.03366989269852638 \t Test Accuracy = 93.7%\n",
      "Epoch [65/150]: \t Running Loss = 0.02825828455388546 \t Test Accuracy = 93.7%\n",
      "Epoch [66/150]: \t Running Loss = 0.027392247691750526 \t Test Accuracy = 93.7%\n",
      "Epoch [67/150]: \t Running Loss = 0.027212155982851982 \t Test Accuracy = 93.8%\n",
      "Epoch [68/150]: \t Running Loss = 0.026915205642580986 \t Test Accuracy = 93.6%\n",
      "Epoch [69/150]: \t Running Loss = 0.02538352645933628 \t Test Accuracy = 93.8%\n",
      "Epoch [70/150]: \t Running Loss = 0.02438160590827465 \t Test Accuracy = 93.8%\n",
      "Epoch [71/150]: \t Running Loss = 0.021413158625364304 \t Test Accuracy = 93.7%\n",
      "Epoch [72/150]: \t Running Loss = 0.02038794569671154 \t Test Accuracy = 93.8%\n",
      "Epoch [73/150]: \t Running Loss = 0.022028716281056404 \t Test Accuracy = 93.7%\n",
      "Epoch [74/150]: \t Running Loss = 0.021900726482272148 \t Test Accuracy = 93.7%\n",
      "Epoch [75/150]: \t Running Loss = 0.021671419963240623 \t Test Accuracy = 93.8%\n",
      "Epoch [76/150]: \t Running Loss = 0.020655663684010506 \t Test Accuracy = 93.7%\n",
      "Epoch [77/150]: \t Running Loss = 0.018297085538506508 \t Test Accuracy = 93.7%\n",
      "Epoch [78/150]: \t Running Loss = 0.01898023672401905 \t Test Accuracy = 93.7%\n",
      "Epoch [79/150]: \t Running Loss = 0.020840398967266083 \t Test Accuracy = 93.9%\n",
      "Epoch [80/150]: \t Running Loss = 0.017367128282785416 \t Test Accuracy = 93.8%\n",
      "Epoch [81/150]: \t Running Loss = 0.017804061993956566 \t Test Accuracy = 94.0%\n",
      "Epoch [82/150]: \t Running Loss = 0.01747753471136093 \t Test Accuracy = 93.8%\n",
      "Epoch [83/150]: \t Running Loss = 0.01802532561123371 \t Test Accuracy = 93.6%\n",
      "Epoch [84/150]: \t Running Loss = 0.017461517825722694 \t Test Accuracy = 93.6%\n",
      "Epoch [85/150]: \t Running Loss = 0.01761440932750702 \t Test Accuracy = 93.8%\n",
      "Epoch [86/150]: \t Running Loss = 0.016686387360095978 \t Test Accuracy = 94.0%\n",
      "Epoch [87/150]: \t Running Loss = 0.017262917011976242 \t Test Accuracy = 93.8%\n",
      "Epoch [88/150]: \t Running Loss = 0.015817489475011826 \t Test Accuracy = 94.2%\n",
      "Epoch [89/150]: \t Running Loss = 0.01721460372209549 \t Test Accuracy = 94.0%\n",
      "Epoch [90/150]: \t Running Loss = 0.01555021945387125 \t Test Accuracy = 93.8%\n",
      "Epoch [91/150]: \t Running Loss = 0.017536481842398643 \t Test Accuracy = 93.8%\n",
      "Epoch [92/150]: \t Running Loss = 0.01685413345694542 \t Test Accuracy = 94.0%\n",
      "Epoch [93/150]: \t Running Loss = 0.01694233901798725 \t Test Accuracy = 93.8%\n",
      "Epoch [94/150]: \t Running Loss = 0.015543470159173012 \t Test Accuracy = 93.9%\n",
      "Epoch [95/150]: \t Running Loss = 0.016565274447202682 \t Test Accuracy = 93.8%\n",
      "Epoch [96/150]: \t Running Loss = 0.016482796519994736 \t Test Accuracy = 93.8%\n",
      "Epoch [97/150]: \t Running Loss = 0.016338247805833817 \t Test Accuracy = 93.8%\n",
      "Epoch [98/150]: \t Running Loss = 0.015581388026475906 \t Test Accuracy = 93.6%\n",
      "Epoch [99/150]: \t Running Loss = 0.0150569723919034 \t Test Accuracy = 93.3%\n",
      "Epoch [100/150]: \t Running Loss = 0.016539189964532852 \t Test Accuracy = 93.8%\n",
      "Epoch [101/150]: \t Running Loss = 0.014590640552341938 \t Test Accuracy = 93.6%\n",
      "Epoch [102/150]: \t Running Loss = 0.015151306986808777 \t Test Accuracy = 93.8%\n",
      "Epoch [103/150]: \t Running Loss = 0.013939253985881805 \t Test Accuracy = 93.7%\n",
      "Epoch [104/150]: \t Running Loss = 0.015234211459755898 \t Test Accuracy = 94.1%\n",
      "Epoch [105/150]: \t Running Loss = 0.015006260946393013 \t Test Accuracy = 94.0%\n",
      "Epoch [106/150]: \t Running Loss = 0.014316996559500694 \t Test Accuracy = 94.1%\n",
      "Epoch [107/150]: \t Running Loss = 0.01382478978484869 \t Test Accuracy = 93.8%\n",
      "Epoch [108/150]: \t Running Loss = 0.014674779027700424 \t Test Accuracy = 93.9%\n",
      "Epoch [109/150]: \t Running Loss = 0.014594092965126038 \t Test Accuracy = 93.4%\n",
      "Epoch [110/150]: \t Running Loss = 0.013768096454441547 \t Test Accuracy = 94.0%\n",
      "Epoch [111/150]: \t Running Loss = 0.014497879892587662 \t Test Accuracy = 93.8%\n",
      "Epoch [112/150]: \t Running Loss = 0.015096683986485004 \t Test Accuracy = 93.9%\n",
      "Epoch [113/150]: \t Running Loss = 0.013979218900203705 \t Test Accuracy = 93.9%\n",
      "Epoch [114/150]: \t Running Loss = 0.014326659962534904 \t Test Accuracy = 94.0%\n",
      "Epoch [115/150]: \t Running Loss = 0.01413723174482584 \t Test Accuracy = 93.6%\n",
      "Epoch [116/150]: \t Running Loss = 0.013845480047166348 \t Test Accuracy = 93.8%\n",
      "Epoch [117/150]: \t Running Loss = 0.01473497785627842 \t Test Accuracy = 93.8%\n",
      "Epoch [118/150]: \t Running Loss = 0.014819778501987457 \t Test Accuracy = 93.7%\n",
      "Epoch [119/150]: \t Running Loss = 0.014113360084593296 \t Test Accuracy = 93.9%\n",
      "Epoch [120/150]: \t Running Loss = 0.013318057172000408 \t Test Accuracy = 93.6%\n",
      "Epoch [121/150]: \t Running Loss = 0.014367463067173958 \t Test Accuracy = 93.7%\n",
      "Epoch [122/150]: \t Running Loss = 0.014338415116071701 \t Test Accuracy = 93.6%\n",
      "Epoch [123/150]: \t Running Loss = 0.012803112156689167 \t Test Accuracy = 93.7%\n",
      "Epoch [124/150]: \t Running Loss = 0.013328895904123783 \t Test Accuracy = 93.6%\n",
      "Epoch [125/150]: \t Running Loss = 0.01340336911380291 \t Test Accuracy = 93.7%\n",
      "Epoch [126/150]: \t Running Loss = 0.01476194430142641 \t Test Accuracy = 93.7%\n",
      "Epoch [127/150]: \t Running Loss = 0.013033627532422543 \t Test Accuracy = 93.9%\n",
      "Epoch [128/150]: \t Running Loss = 0.013285950757563114 \t Test Accuracy = 93.8%\n",
      "Epoch [129/150]: \t Running Loss = 0.011770903132855892 \t Test Accuracy = 93.9%\n",
      "Epoch [130/150]: \t Running Loss = 0.012740232981741428 \t Test Accuracy = 93.7%\n",
      "Epoch [131/150]: \t Running Loss = 0.011142987757921219 \t Test Accuracy = 93.9%\n",
      "Epoch [132/150]: \t Running Loss = 0.010741162113845348 \t Test Accuracy = 94.0%\n",
      "Epoch [133/150]: \t Running Loss = 0.009971531108021736 \t Test Accuracy = 94.1%\n",
      "Epoch [134/150]: \t Running Loss = 0.010196457616984844 \t Test Accuracy = 94.1%\n",
      "Epoch [135/150]: \t Running Loss = 0.009906474500894547 \t Test Accuracy = 94.1%\n",
      "Epoch [136/150]: \t Running Loss = 0.008788482286036015 \t Test Accuracy = 94.1%\n",
      "Epoch [137/150]: \t Running Loss = 0.009546507149934769 \t Test Accuracy = 94.2%\n",
      "Epoch [138/150]: \t Running Loss = 0.007478020619601011 \t Test Accuracy = 94.2%\n",
      "Epoch [139/150]: \t Running Loss = 0.007867823354899883 \t Test Accuracy = 94.2%\n",
      "Epoch [140/150]: \t Running Loss = 0.008689402602612972 \t Test Accuracy = 94.3%\n",
      "Epoch [141/150]: \t Running Loss = 0.008649387396872044 \t Test Accuracy = 94.1%\n",
      "Epoch [142/150]: \t Running Loss = 0.007978362962603569 \t Test Accuracy = 94.1%\n",
      "Epoch [143/150]: \t Running Loss = 0.007768079172819853 \t Test Accuracy = 94.1%\n",
      "Epoch [144/150]: \t Running Loss = 0.0073568932712078094 \t Test Accuracy = 94.2%\n",
      "Epoch [145/150]: \t Running Loss = 0.00804136972874403 \t Test Accuracy = 94.3%\n",
      "Epoch [146/150]: \t Running Loss = 0.007824459113180637 \t Test Accuracy = 94.2%\n",
      "Epoch [147/150]: \t Running Loss = 0.007888847962021828 \t Test Accuracy = 94.3%\n",
      "Epoch [148/150]: \t Running Loss = 0.007521920837461948 \t Test Accuracy = 94.3%\n",
      "Epoch [149/150]: \t Running Loss = 0.007952381856739521 \t Test Accuracy = 94.2%\n",
      "Epoch [150/150]: \t Running Loss = 0.007360038813203573 \t Test Accuracy = 94.2%\n"
     ]
    }
   ],
   "source": [
    "losses = train(train_dl, test_dl, model, optim, scheduler, loss_fn, epochs)"
   ]
  },
  {
   "cell_type": "markdown",
   "id": "daa7e072-f1dd-4a18-a41a-36c49b39e5ed",
   "metadata": {},
   "source": [
    "# Evaluation"
   ]
  },
  {
   "cell_type": "code",
   "execution_count": 24,
   "id": "45f23355-481d-4191-ac35-1eae6934f37c",
   "metadata": {},
   "outputs": [
    {
     "data": {
      "text/plain": [
       "ResNet(\n",
       "  (network): Sequential(\n",
       "    (0): ResNetInitialBlock(\n",
       "      (conv): Conv2d(3, 64, kernel_size=(3, 3), stride=(1, 1), padding=(1, 1))\n",
       "    )\n",
       "    (1): ResNetLayer(\n",
       "      (blocks): Sequential(\n",
       "        (0): ResNetBlock(\n",
       "          (conv1): Conv2d(64, 64, kernel_size=(3, 3), stride=(1, 1), padding=(1, 1))\n",
       "          (bn1): BatchNorm2d(64, eps=1e-05, momentum=0.1, affine=True, track_running_stats=True)\n",
       "          (conv2): Conv2d(64, 64, kernel_size=(3, 3), stride=(1, 1), padding=(1, 1))\n",
       "          (bn2): BatchNorm2d(64, eps=1e-05, momentum=0.1, affine=True, track_running_stats=True)\n",
       "          (dropout): Dropout(p=0, inplace=False)\n",
       "          (downsample): Conv2d(64, 64, kernel_size=(1, 1), stride=(1, 1))\n",
       "        )\n",
       "        (1): ResNetBlock(\n",
       "          (conv1): Conv2d(64, 64, kernel_size=(3, 3), stride=(1, 1), padding=(1, 1))\n",
       "          (bn1): BatchNorm2d(64, eps=1e-05, momentum=0.1, affine=True, track_running_stats=True)\n",
       "          (conv2): Conv2d(64, 128, kernel_size=(3, 3), stride=(1, 1), padding=(1, 1))\n",
       "          (bn2): BatchNorm2d(128, eps=1e-05, momentum=0.1, affine=True, track_running_stats=True)\n",
       "          (dropout): Dropout(p=0, inplace=False)\n",
       "          (downsample): Conv2d(64, 128, kernel_size=(1, 1), stride=(1, 1))\n",
       "        )\n",
       "      )\n",
       "    )\n",
       "    (2): ResNetLayer(\n",
       "      (blocks): Sequential(\n",
       "        (0): ResNetBlock(\n",
       "          (conv1): Conv2d(128, 128, kernel_size=(3, 3), stride=(2, 2), padding=(1, 1))\n",
       "          (bn1): BatchNorm2d(128, eps=1e-05, momentum=0.1, affine=True, track_running_stats=True)\n",
       "          (conv2): Conv2d(128, 128, kernel_size=(3, 3), stride=(1, 1), padding=(1, 1))\n",
       "          (bn2): BatchNorm2d(128, eps=1e-05, momentum=0.1, affine=True, track_running_stats=True)\n",
       "          (dropout): Dropout(p=0, inplace=False)\n",
       "          (downsample): Conv2d(128, 128, kernel_size=(1, 1), stride=(2, 2))\n",
       "        )\n",
       "        (1): ResNetBlock(\n",
       "          (conv1): Conv2d(128, 128, kernel_size=(3, 3), stride=(1, 1), padding=(1, 1))\n",
       "          (bn1): BatchNorm2d(128, eps=1e-05, momentum=0.1, affine=True, track_running_stats=True)\n",
       "          (conv2): Conv2d(128, 256, kernel_size=(3, 3), stride=(1, 1), padding=(1, 1))\n",
       "          (bn2): BatchNorm2d(256, eps=1e-05, momentum=0.1, affine=True, track_running_stats=True)\n",
       "          (dropout): Dropout(p=0, inplace=False)\n",
       "          (downsample): Conv2d(128, 256, kernel_size=(1, 1), stride=(1, 1))\n",
       "        )\n",
       "      )\n",
       "    )\n",
       "    (3): ResNetLayer(\n",
       "      (blocks): Sequential(\n",
       "        (0): ResNetBlock(\n",
       "          (conv1): Conv2d(256, 256, kernel_size=(3, 3), stride=(2, 2), padding=(1, 1))\n",
       "          (bn1): BatchNorm2d(256, eps=1e-05, momentum=0.1, affine=True, track_running_stats=True)\n",
       "          (conv2): Conv2d(256, 256, kernel_size=(3, 3), stride=(1, 1), padding=(1, 1))\n",
       "          (bn2): BatchNorm2d(256, eps=1e-05, momentum=0.1, affine=True, track_running_stats=True)\n",
       "          (dropout): Dropout(p=0, inplace=False)\n",
       "          (downsample): Conv2d(256, 256, kernel_size=(1, 1), stride=(2, 2))\n",
       "        )\n",
       "        (1): ResNetBlock(\n",
       "          (conv1): Conv2d(256, 256, kernel_size=(3, 3), stride=(1, 1), padding=(1, 1))\n",
       "          (bn1): BatchNorm2d(256, eps=1e-05, momentum=0.1, affine=True, track_running_stats=True)\n",
       "          (conv2): Conv2d(256, 256, kernel_size=(3, 3), stride=(1, 1), padding=(1, 1))\n",
       "          (bn2): BatchNorm2d(256, eps=1e-05, momentum=0.1, affine=True, track_running_stats=True)\n",
       "          (dropout): Dropout(p=0, inplace=False)\n",
       "          (downsample): Conv2d(256, 256, kernel_size=(1, 1), stride=(1, 1))\n",
       "        )\n",
       "        (2): ResNetBlock(\n",
       "          (conv1): Conv2d(256, 256, kernel_size=(3, 3), stride=(1, 1), padding=(1, 1))\n",
       "          (bn1): BatchNorm2d(256, eps=1e-05, momentum=0.1, affine=True, track_running_stats=True)\n",
       "          (conv2): Conv2d(256, 256, kernel_size=(3, 3), stride=(1, 1), padding=(1, 1))\n",
       "          (bn2): BatchNorm2d(256, eps=1e-05, momentum=0.1, affine=True, track_running_stats=True)\n",
       "          (dropout): Dropout(p=0, inplace=False)\n",
       "          (downsample): Conv2d(256, 256, kernel_size=(1, 1), stride=(1, 1))\n",
       "        )\n",
       "      )\n",
       "    )\n",
       "  )\n",
       "  (dropout): Dropout(p=0.5, inplace=False)\n",
       "  (pool): AvgPool2d(kernel_size=3, stride=1, padding=0)\n",
       "  (fc): Linear(in_features=9216, out_features=10, bias=True)\n",
       ")"
      ]
     },
     "execution_count": 24,
     "metadata": {},
     "output_type": "execute_result"
    }
   ],
   "source": [
    "model.to('cpu')"
   ]
  },
  {
   "cell_type": "code",
   "execution_count": 25,
   "id": "d5cb23df-49b6-408b-944f-7cae6d04eb5c",
   "metadata": {},
   "outputs": [],
   "source": [
    "def unpickle(file):\n",
    "    import pickle\n",
    "    with open(file, 'rb') as fo:\n",
    "        dict = pickle.load(fo, encoding='bytes')\n",
    "    return dict"
   ]
  },
  {
   "cell_type": "code",
   "execution_count": 26,
   "id": "4dc609fb-d8c8-4fe3-91ca-952e74f68387",
   "metadata": {},
   "outputs": [],
   "source": [
    "from io import BytesIO\n",
    "with open('model-test.pth', 'rb') as f:\n",
    "    buffer = BytesIO(f.read())\n",
    "\n",
    "# Load the state dictionary from the buffer\n",
    "state_dict = torch.load(buffer, map_location=torch.device('cpu'))"
   ]
  },
  {
   "cell_type": "code",
   "execution_count": 27,
   "id": "c931ccd3-72e6-45ea-a797-25772840e487",
   "metadata": {},
   "outputs": [
    {
     "data": {
      "text/plain": [
       "ResNet(\n",
       "  (network): Sequential(\n",
       "    (0): ResNetInitialBlock(\n",
       "      (conv): Conv2d(3, 64, kernel_size=(3, 3), stride=(1, 1), padding=(1, 1))\n",
       "    )\n",
       "    (1): ResNetLayer(\n",
       "      (blocks): Sequential(\n",
       "        (0): ResNetBlock(\n",
       "          (conv1): Conv2d(64, 64, kernel_size=(3, 3), stride=(1, 1), padding=(1, 1))\n",
       "          (bn1): BatchNorm2d(64, eps=1e-05, momentum=0.1, affine=True, track_running_stats=True)\n",
       "          (conv2): Conv2d(64, 64, kernel_size=(3, 3), stride=(1, 1), padding=(1, 1))\n",
       "          (bn2): BatchNorm2d(64, eps=1e-05, momentum=0.1, affine=True, track_running_stats=True)\n",
       "          (dropout): Dropout(p=0, inplace=False)\n",
       "          (downsample): Conv2d(64, 64, kernel_size=(1, 1), stride=(1, 1))\n",
       "        )\n",
       "        (1): ResNetBlock(\n",
       "          (conv1): Conv2d(64, 64, kernel_size=(3, 3), stride=(1, 1), padding=(1, 1))\n",
       "          (bn1): BatchNorm2d(64, eps=1e-05, momentum=0.1, affine=True, track_running_stats=True)\n",
       "          (conv2): Conv2d(64, 128, kernel_size=(3, 3), stride=(1, 1), padding=(1, 1))\n",
       "          (bn2): BatchNorm2d(128, eps=1e-05, momentum=0.1, affine=True, track_running_stats=True)\n",
       "          (dropout): Dropout(p=0, inplace=False)\n",
       "          (downsample): Conv2d(64, 128, kernel_size=(1, 1), stride=(1, 1))\n",
       "        )\n",
       "      )\n",
       "    )\n",
       "    (2): ResNetLayer(\n",
       "      (blocks): Sequential(\n",
       "        (0): ResNetBlock(\n",
       "          (conv1): Conv2d(128, 128, kernel_size=(3, 3), stride=(2, 2), padding=(1, 1))\n",
       "          (bn1): BatchNorm2d(128, eps=1e-05, momentum=0.1, affine=True, track_running_stats=True)\n",
       "          (conv2): Conv2d(128, 128, kernel_size=(3, 3), stride=(1, 1), padding=(1, 1))\n",
       "          (bn2): BatchNorm2d(128, eps=1e-05, momentum=0.1, affine=True, track_running_stats=True)\n",
       "          (dropout): Dropout(p=0, inplace=False)\n",
       "          (downsample): Conv2d(128, 128, kernel_size=(1, 1), stride=(2, 2))\n",
       "        )\n",
       "        (1): ResNetBlock(\n",
       "          (conv1): Conv2d(128, 128, kernel_size=(3, 3), stride=(1, 1), padding=(1, 1))\n",
       "          (bn1): BatchNorm2d(128, eps=1e-05, momentum=0.1, affine=True, track_running_stats=True)\n",
       "          (conv2): Conv2d(128, 256, kernel_size=(3, 3), stride=(1, 1), padding=(1, 1))\n",
       "          (bn2): BatchNorm2d(256, eps=1e-05, momentum=0.1, affine=True, track_running_stats=True)\n",
       "          (dropout): Dropout(p=0, inplace=False)\n",
       "          (downsample): Conv2d(128, 256, kernel_size=(1, 1), stride=(1, 1))\n",
       "        )\n",
       "      )\n",
       "    )\n",
       "    (3): ResNetLayer(\n",
       "      (blocks): Sequential(\n",
       "        (0): ResNetBlock(\n",
       "          (conv1): Conv2d(256, 256, kernel_size=(3, 3), stride=(2, 2), padding=(1, 1))\n",
       "          (bn1): BatchNorm2d(256, eps=1e-05, momentum=0.1, affine=True, track_running_stats=True)\n",
       "          (conv2): Conv2d(256, 256, kernel_size=(3, 3), stride=(1, 1), padding=(1, 1))\n",
       "          (bn2): BatchNorm2d(256, eps=1e-05, momentum=0.1, affine=True, track_running_stats=True)\n",
       "          (dropout): Dropout(p=0, inplace=False)\n",
       "          (downsample): Conv2d(256, 256, kernel_size=(1, 1), stride=(2, 2))\n",
       "        )\n",
       "        (1): ResNetBlock(\n",
       "          (conv1): Conv2d(256, 256, kernel_size=(3, 3), stride=(1, 1), padding=(1, 1))\n",
       "          (bn1): BatchNorm2d(256, eps=1e-05, momentum=0.1, affine=True, track_running_stats=True)\n",
       "          (conv2): Conv2d(256, 256, kernel_size=(3, 3), stride=(1, 1), padding=(1, 1))\n",
       "          (bn2): BatchNorm2d(256, eps=1e-05, momentum=0.1, affine=True, track_running_stats=True)\n",
       "          (dropout): Dropout(p=0, inplace=False)\n",
       "          (downsample): Conv2d(256, 256, kernel_size=(1, 1), stride=(1, 1))\n",
       "        )\n",
       "        (2): ResNetBlock(\n",
       "          (conv1): Conv2d(256, 256, kernel_size=(3, 3), stride=(1, 1), padding=(1, 1))\n",
       "          (bn1): BatchNorm2d(256, eps=1e-05, momentum=0.1, affine=True, track_running_stats=True)\n",
       "          (conv2): Conv2d(256, 256, kernel_size=(3, 3), stride=(1, 1), padding=(1, 1))\n",
       "          (bn2): BatchNorm2d(256, eps=1e-05, momentum=0.1, affine=True, track_running_stats=True)\n",
       "          (dropout): Dropout(p=0, inplace=False)\n",
       "          (downsample): Conv2d(256, 256, kernel_size=(1, 1), stride=(1, 1))\n",
       "        )\n",
       "      )\n",
       "    )\n",
       "  )\n",
       "  (dropout): Dropout(p=0.5, inplace=False)\n",
       "  (pool): AvgPool2d(kernel_size=3, stride=1, padding=0)\n",
       "  (fc): Linear(in_features=9216, out_features=10, bias=True)\n",
       ")"
      ]
     },
     "execution_count": 27,
     "metadata": {},
     "output_type": "execute_result"
    }
   ],
   "source": [
    "# model = torch.load_state_dict(state_dict, strict=True, assign=False)\n",
    "model.load_state_dict(state_dict)\n",
    "model.to('cuda')\n",
    "model.eval()"
   ]
  },
  {
   "cell_type": "code",
   "execution_count": 28,
   "id": "52d6bf10-19cc-421f-84a4-d360aa453ce3",
   "metadata": {},
   "outputs": [
    {
     "name": "stdout",
     "output_type": "stream",
     "text": [
      "The accuracy of the model on train data is: 99.406%\n"
     ]
    }
   ],
   "source": [
    "accuracy = evaluate(train_dl, model)\n",
    "print(\"The accuracy of the model on train data is:\", str(accuracy*100)+\"%\")"
   ]
  },
  {
   "cell_type": "code",
   "execution_count": 29,
   "id": "7c439811-2d0b-49f2-8e91-98e11712345d",
   "metadata": {},
   "outputs": [
    {
     "name": "stdout",
     "output_type": "stream",
     "text": [
      "The accuracy of the model on test data is: 94.48%\n"
     ]
    }
   ],
   "source": [
    "accuracy = evaluate(test_dl, model)\n",
    "print(\"The accuracy of the model on test data is:\", str(accuracy*100)+\"%\")"
   ]
  },
  {
   "cell_type": "code",
   "execution_count": 30,
   "id": "6165477d-e7bb-407a-8239-d998e1383890",
   "metadata": {},
   "outputs": [],
   "source": [
    "import numpy as np\n",
    "import matplotlib.pyplot as plt\n",
    "import os\n",
    "import pickle\n",
    "import torch\n",
    "import torch.nn as nn\n",
    "import torchvision.transforms as transforms\n",
    "from torch.utils.data import DataLoader, TensorDataset\n",
    "from tqdm import tqdm\n",
    "import pandas as pd\n",
    "\n",
    "# Function to load CIFAR batch\n",
    "def load_cifar_batch(file):\n",
    "    with open(file, 'rb') as fo:\n",
    "        batch = pickle.load(fo, encoding='bytes')\n",
    "    return batch\n",
    "\n",
    "# Load test data\n",
    "test_batch = load_cifar_batch('../cifar_test_nolabels.pkl')\n",
    "test_images = test_batch[b'data'].reshape(-1, 3, 32, 32).transpose(0, 2, 3, 1)\n",
    "\n",
    "# Define transformation for data augmentation\n",
    "transform = transforms.Compose([\n",
    "    transforms.ToTensor(),\n",
    "    transforms.Lambda(normalize),\n",
    "])\n",
    "\n",
    "\n",
    "# Apply data augmentation\n",
    "augmented_test_images = torch.stack([transform(image) for image in test_images]).to(device)\n",
    "# test_dl = \n",
    "test_dl_new = torch.utils.data.DataLoader(augmented_test_images,batch_size=64,shuffle=False)\n",
    "# Load the trained model\n",
    "# model = ModifiedResNet()\n",
    "# checkpoint = torch.load('modified_resnet_model.pth')\n",
    "\n",
    "# Check the keys in the checkpoint dictionary\n",
    "# print(checkpoint.keys())\n",
    "\n",
    "# Assuming the model state dictionary is saved under a different key\n",
    "# Adjust this according to the actual key in your checkpoint file\n",
    "# model.load_state_dict(checkpoint)\n",
    "\n",
    "# Evaluate the model on test data\n",
    "model.eval()\n",
    "with torch.no_grad():\n",
    "    outputs = model(augmented_test_images)\n",
    "    _, predicted = torch.max(outputs, 1)\n",
    "    \n",
    "    # Display the first 10 test images and predicted labels\n",
    "    # plt.figure(figsize=(20, 4))\n",
    "    # for i in range(10):\n",
    "    #     plt.subplot(1, 10, i+1)\n",
    "    #     plt.imshow(test_images[i])\n",
    "    #     plt.title(label_names[predicted[i].item()].decode('utf-8'))\n",
    "    #     plt.axis('off')\n",
    "    #     plt.show()\n",
    "\n",
    "# Save the output in output.csv containing ID, Labels\n",
    "predicted = predicted.cpu()\n",
    "output_data = {'ID': np.arange(len(predicted)), 'Labels': predicted.numpy()}\n",
    "output_df = pd.DataFrame(output_data)\n",
    "output_df.to_csv('output2.csv', index=False)"
   ]
  },
  {
   "cell_type": "code",
   "execution_count": 31,
   "id": "ec12e9a1-3b20-4d64-bcc6-2b4a23e7f947",
   "metadata": {},
   "outputs": [
    {
     "name": "stdout",
     "output_type": "stream",
     "text": [
      "Labels\n",
      "3    1150\n",
      "5    1093\n",
      "1    1050\n",
      "9    1041\n",
      "8    1033\n",
      "7    1020\n",
      "4     951\n",
      "2     941\n",
      "6     896\n",
      "0     825\n",
      "Name: count, dtype: int64\n"
     ]
    }
   ],
   "source": [
    "print(output_df['Labels'].value_counts())"
   ]
  },
  {
   "cell_type": "code",
   "execution_count": 32,
   "id": "665473f6-dede-432c-9db1-7827b2adb1a4",
   "metadata": {},
   "outputs": [
    {
     "data": {
      "image/png": "[encoded data removed]",
      "text/plain": [
       "<Figure size 640x480 with 1 Axes>"
      ]
     },
     "metadata": {},
     "output_type": "display_data"
    }
   ],
   "source": [
    "import matplotlib.pyplot as plt\n",
    "\n",
    "avg_loss += losses[1]\n",
    "\n",
    "plt.plot(range(1, len(avg_loss)+1), avg_loss, 'b', label='Avg loss')\n",
    "plt.title('Average Loss for each epoch')\n",
    "plt.xlabel('Epochs')\n",
    "plt.ylabel('Avg Loss')\n",
    "plt.legend()\n",
    "plt.savefig('300_plot.png')\n",
    "plt.show()"
   ]
  },
  {
   "cell_type": "code",
   "execution_count": 33,
   "id": "c29abd4a-2fd7-4fc0-8ccb-6bb5ed8a42bd",
   "metadata": {},
   "outputs": [],
   "source": [
    "f = open(\"test_results.txt\", \"w\")\n",
    "f.write(str(evaluate(test_dl, model)))\n",
    "f.close()"
   ]
  },
  {
   "cell_type": "code",
   "execution_count": 34,
   "id": "9e3f7cba-eb8e-4163-a2e2-e05644e06ec7",
   "metadata": {},
   "outputs": [],
   "source": [
    "f = open(\"train_results.txt\", \"w\")\n",
    "f.write(str(evaluate(train_dl, model)))\n",
    "f.close()"
   ]
  },
  {
   "cell_type": "code",
   "execution_count": null,
   "id": "8d3e6c86-3763-4eb1-a0ba-b35a33d4fb7e",
   "metadata": {},
   "outputs": [],
   "source": []
  }
 ],
 "metadata": {
  "kernelspec": {
   "display_name": "Python 3 (ipykernel)",
   "language": "python",
   "name": "python3"
  },
  "language_info": {
   "codemirror_mode": {
    "name": "ipython",
    "version": 3
   },
   "file_extension": ".py",
   "mimetype": "text/x-python",
   "name": "python",
   "nbconvert_exporter": "python",
   "pygments_lexer": "ipython3",
   "version": "3.11.7"
  }
 },
 "nbformat": 4,
 "nbformat_minor": 5
}
